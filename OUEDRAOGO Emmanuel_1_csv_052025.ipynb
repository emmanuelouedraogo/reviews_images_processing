{
 "cells": [
  {
   "cell_type": "code",
   "execution_count": 39,
   "id": "c8cdd4fd",
   "metadata": {},
   "outputs": [],
   "source": [
    "import requests\n",
    "import json\n",
    "import csv\n",
    "import pandas as pd\n",
    "import os\n",
    "import time\n",
    "import matplotlib.pyplot as plt"
   ]
  },
  {
   "cell_type": "markdown",
   "id": "7f371a6a",
   "metadata": {},
   "source": [
    "graphql   : \n"
   ]
  },
  {
   "cell_type": "markdown",
   "id": "3ef81798",
   "metadata": {},
   "source": [
    "Nous pouvons filtrer notre recherche de restaurants en fonction de la ville et la catégorie de l'établissement(facultatif), ces catégories sont disponibles à cette page : https://docs.developer.yelp.com/docs/resources-categories"
   ]
  },
  {
   "cell_type": "markdown",
   "id": "e9a7faa6",
   "metadata": {},
   "source": [
    "Valeur de la variable d'environnement MY_API_KEY :  \n",
    "eWtpdzo8O7Of1Qhnq7Of6PfdsCno6fnJFq-36UY9jm-LYbCLcT84vVxQu7jxT6jXw61V-h7SPOv4t-z4W6hehMMQkfFXZye2FHaBTP7KdUSTsAHwji1fes8UZlsraHYx\n",
    "\n",
    "Client ID: \n",
    "c4_dvyIvEkkAthQE_BhzlQ"
   ]
  },
  {
   "cell_type": "markdown",
   "id": "f0035dfb",
   "metadata": {},
   "source": [
    "import requests\n",
    "\n",
    "url = \"https://api.yelp.com/v3/businesses/business_id_or_alias/reviews?limit=20&sort_by=yelp_sort\"\n",
    "\n",
    "headers = {\"accept\": \"application/json\"}\n",
    "\n",
    "response = requests.get(url, headers=headers)\n",
    "\n",
    "print(response.text)"
   ]
  },
  {
   "cell_type": "code",
   "execution_count": 40,
   "id": "dd5df3a8",
   "metadata": {},
   "outputs": [],
   "source": [
    "MY_API_KEY=\"eWtpdzo8O7Of1Qhnq7Of6PfdsCno6fnJFq-36UY9jm-LYbCLcT84vVxQu7jxT6jXw61V-h7SPOv4t-z4W6hehMMQkfFXZye2FHaBTP7KdUSTsAHwji1fes8UZlsraHYx\""
   ]
  },
  {
   "cell_type": "code",
   "execution_count": null,
   "id": "b705c76f",
   "metadata": {},
   "outputs": [
    {
     "name": "stdout",
     "output_type": "stream",
     "text": [
      "400 Bad Request\n",
      "Total unique businesses collected: 0.\n"
     ]
    }
   ],
   "source": [
    "def get_businesses(location, api_key, categories=None, term=\"restaurants\"):\n",
    "    \"\"\"\n",
    "    Cette fonction interroge l'API Yelp pour obtenir une liste d'établissements en fonction des critères spécifiés.\n",
    "    \n",
    "    Args:\n",
    "        location (str) : Lieu où chercher les établissements.\n",
    "        api_key (str) : Clé d'API Yelp pour authentifier la requête.\n",
    "        categories (str, optionnel) : Catégories d'établissements à rechercher.\n",
    "        term (str, optionnel) : Terme de recherche. Par défaut, il s'agit de \"restaurants\".\n",
    "\n",
    "    Returns:\n",
    "        list : Liste de dictionnaires où chaque dictionnaire représente les détails d'un établissement.\n",
    "    \"\"\"\n",
    "    headers = {\"Authorization\": \"Bearer %s\" % api_key}\n",
    "    url = \"https://api.yelp.com/v3/businesses/search\"\n",
    "    data = {}\n",
    "    offset = 0\n",
    "    while len(data) < 200:\n",
    "        params = {\n",
    "            \"limit\": 50,\n",
    "            \"location\": location,\n",
    "            \"term\": term,\n",
    "            \"offset\": offset,\n",
    "            \"categories\": categories,  \n",
    "        }\n",
    "        response = requests.get(url, headers=headers, params=params)\n",
    "        if response.status_code == 200:\n",
    "            businesses = response.json()[\"businesses\"]\n",
    "            print(f\"Received {len(businesses)} businesses from Yelp API.\")  \n",
    "            for business in businesses:\n",
    "                if business[\"id\"] not in data:\n",
    "                    data[business[\"id\"]] = business\n",
    "        elif response.status_code == 400:\n",
    "            print(\"400 Bad Request\")\n",
    "            break\n",
    "        print(f\"Currently, {len(data)} unique businesses collected.\")  \n",
    "        offset += 50\n",
    "    print(f\"Total unique businesses collected: {len(data)}.\") \n",
    "    return list(data.values())  \n",
    "\n",
    "\n",
    "\n",
    "def get_reviews(business_id, api_key):\n",
    "    \"\"\"\n",
    "    Cette fonction récupère les avis d'un établissement spécifique à partir de l'API Yelp.\n",
    "    \n",
    "    Args:\n",
    "        business_id (str) : ID de l'établissement pour lequel récupérer les avis.\n",
    "        api_key (str) : Clé d'API Yelp pour authentifier la requête.\n",
    "        \n",
    "    Returns:\n",
    "        list : Liste de dictionnaires où chaque dictionnaire représente un avis pour l'établissement.\n",
    "    \"\"\"\n",
    "    headers = {\"Authorization\": \"Bearer %s\" % api_key}\n",
    "    url = f\"https://api.yelp.com/v3/businesses/{business_id}/reviews\"\n",
    "    try:\n",
    "        response = requests.get(url, headers=headers)\n",
    "        if response.status_code == 200:\n",
    "            return response.json()[\"reviews\"]\n",
    "    except:\n",
    "        print(f\"Failed to get reviews for business id {business_id}\")\n",
    "    return []\n",
    "\n",
    "\n",
    "def collect_and_write_data(location, api_key, categories):\n",
    "    \"\"\"\n",
    "    Cette fonction collecte les données des établissements et de leurs avis à partir de l'API Yelp \n",
    "    et les écrit dans un fichier CSV.\n",
    "    \n",
    "    Args:\n",
    "        location (str) : Lieu où chercher les établissements.\n",
    "        api_key (str) : Clé d'API Yelp pour authentifier la requête.\n",
    "        categories (str) : Catégories d'établissements à rechercher.\n",
    "    \"\"\"\n",
    "    businesses = get_businesses(location, api_key, categories)\n",
    "    with open(\"yelp_data.csv\", \"w\", newline=\"\", encoding=\"utf-8\") as csvfile:\n",
    "        writer = csv.writer(csvfile)\n",
    "        writer.writerow(\n",
    "            [\n",
    "                \"business_id\",\n",
    "                \"name\",\n",
    "                \"rating\",\n",
    "                \"review_count\",\n",
    "                \"category\",\n",
    "                \"address\",\n",
    "                \"city\",\n",
    "                \"zip_code\",\n",
    "                \"review_text\",\n",
    "                \"review_rating\",\n",
    "            ]\n",
    "        )\n",
    "        for business in businesses:\n",
    "            business_id = business[\"id\"]\n",
    "            reviews = get_reviews(business_id, api_key)\n",
    "            for review in reviews:\n",
    "                writer.writerow(\n",
    "                    [\n",
    "                        business_id,\n",
    "                        business[\"name\"],\n",
    "                        business[\"rating\"],\n",
    "                        business[\"review_count\"],\n",
    "                        \", \".join([cat[\"title\"] for cat in business[\"categories\"]]),\n",
    "                        business[\"location\"][\"address1\"],\n",
    "                        business[\"location\"][\"city\"],\n",
    "                        business[\"location\"][\"zip_code\"],\n",
    "                        review[\"text\"],\n",
    "                        review[\"rating\"],\n",
    "                    ]\n",
    "                )\n",
    "            \n",
    "api_key = os.getenv(\"MY_API_KEY\")\n",
    "location = \"Paris\"\n",
    "categories = \"french\"\n",
    "collect_and_write_data(location, api_key, categories)"
   ]
  },
  {
   "cell_type": "code",
   "execution_count": 42,
   "id": "d2e79118",
   "metadata": {},
   "outputs": [],
   "source": [
    "df = pd.read_csv(\"yelp_data.csv\")"
   ]
  },
  {
   "cell_type": "code",
   "execution_count": 43,
   "id": "9232e567",
   "metadata": {},
   "outputs": [
    {
     "data": {
      "text/html": [
       "<div>\n",
       "<style scoped>\n",
       "    .dataframe tbody tr th:only-of-type {\n",
       "        vertical-align: middle;\n",
       "    }\n",
       "\n",
       "    .dataframe tbody tr th {\n",
       "        vertical-align: top;\n",
       "    }\n",
       "\n",
       "    .dataframe thead th {\n",
       "        text-align: right;\n",
       "    }\n",
       "</style>\n",
       "<table border=\"1\" class=\"dataframe\">\n",
       "  <thead>\n",
       "    <tr style=\"text-align: right;\">\n",
       "      <th></th>\n",
       "      <th>business_id</th>\n",
       "      <th>name</th>\n",
       "      <th>rating</th>\n",
       "      <th>review_count</th>\n",
       "      <th>category</th>\n",
       "      <th>address</th>\n",
       "      <th>city</th>\n",
       "      <th>zip_code</th>\n",
       "      <th>review_text</th>\n",
       "      <th>review_rating</th>\n",
       "    </tr>\n",
       "  </thead>\n",
       "  <tbody>\n",
       "  </tbody>\n",
       "</table>\n",
       "</div>"
      ],
      "text/plain": [
       "Empty DataFrame\n",
       "Columns: [business_id, name, rating, review_count, category, address, city, zip_code, review_text, review_rating]\n",
       "Index: []"
      ]
     },
     "execution_count": 43,
     "metadata": {},
     "output_type": "execute_result"
    }
   ],
   "source": [
    "df"
   ]
  },
  {
   "cell_type": "code",
   "execution_count": 44,
   "id": "685ba968",
   "metadata": {},
   "outputs": [
    {
     "name": "stdout",
     "output_type": "stream",
     "text": [
      "<class 'pandas.core.frame.DataFrame'>\n",
      "RangeIndex: 0 entries\n",
      "Data columns (total 10 columns):\n",
      " #   Column         Non-Null Count  Dtype \n",
      "---  ------         --------------  ----- \n",
      " 0   business_id    0 non-null      object\n",
      " 1   name           0 non-null      object\n",
      " 2   rating         0 non-null      object\n",
      " 3   review_count   0 non-null      object\n",
      " 4   category       0 non-null      object\n",
      " 5   address        0 non-null      object\n",
      " 6   city           0 non-null      object\n",
      " 7   zip_code       0 non-null      object\n",
      " 8   review_text    0 non-null      object\n",
      " 9   review_rating  0 non-null      object\n",
      "dtypes: object(10)\n",
      "memory usage: 132.0+ bytes\n"
     ]
    }
   ],
   "source": [
    "df.info()"
   ]
  },
  {
   "cell_type": "code",
   "execution_count": 45,
   "id": "1b68a653",
   "metadata": {},
   "outputs": [
    {
     "data": {
      "text/plain": [
       "business_id      0\n",
       "name             0\n",
       "rating           0\n",
       "review_count     0\n",
       "category         0\n",
       "address          0\n",
       "city             0\n",
       "zip_code         0\n",
       "review_text      0\n",
       "review_rating    0\n",
       "dtype: int64"
      ]
     },
     "execution_count": 45,
     "metadata": {},
     "output_type": "execute_result"
    }
   ],
   "source": [
    "df.nunique()"
   ]
  },
  {
   "cell_type": "code",
   "execution_count": 46,
   "id": "ae3aad84",
   "metadata": {},
   "outputs": [
    {
     "data": {
      "text/plain": [
       "Text(0.5, 1.0, 'Distribution des notes des restaurants sélectionnés')"
      ]
     },
     "execution_count": 46,
     "metadata": {},
     "output_type": "execute_result"
    },
    {
     "data": {
      "image/png": "[encoded data removed]",
      "text/plain": [
       "<Figure size 640x480 with 1 Axes>"
      ]
     },
     "metadata": {},
     "output_type": "display_data"
    }
   ],
   "source": [
    "df.rating.value_counts().plot.pie()\n",
    "plt.title(\"Distribution des notes des restaurants sélectionnés\")"
   ]
  }
 ],
 "metadata": {
  "kernelspec": {
   "display_name": "openproj6",
   "language": "python",
   "name": "python3"
  },
  "language_info": {
   "codemirror_mode": {
    "name": "ipython",
    "version": 3
   },
   "file_extension": ".py",
   "mimetype": "text/x-python",
   "name": "python",
   "nbconvert_exporter": "python",
   "pygments_lexer": "ipython3",
   "version": "3.11.6"
  }
 },
 "nbformat": 4,
 "nbformat_minor": 5
}
